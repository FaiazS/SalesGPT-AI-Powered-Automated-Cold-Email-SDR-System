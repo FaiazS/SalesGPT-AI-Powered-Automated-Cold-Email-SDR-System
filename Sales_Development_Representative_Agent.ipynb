{
  "nbformat": 4,
  "nbformat_minor": 0,
  "metadata": {
    "colab": {
      "provenance": [],
      "authorship_tag": "ABX9TyMzQGbQ3q6qm1y108Zc6qop",
      "include_colab_link": true
    },
    "kernelspec": {
      "name": "python3",
      "display_name": "Python 3"
    },
    "language_info": {
      "name": "python"
    }
  },
  "cells": [
    {
      "cell_type": "markdown",
      "metadata": {
        "id": "view-in-github",
        "colab_type": "text"
      },
      "source": [
        "<a href=\"https://colab.research.google.com/github/FaiazS/SalesGPT-AI-Powered-Automated-Cold-Email-SDR-System/blob/main/Sales_Development_Representative_Agent.ipynb\" target=\"_parent\"><img src=\"https://colab.research.google.com/assets/colab-badge.svg\" alt=\"Open In Colab\"/></a>"
      ]
    },
    {
      "cell_type": "markdown",
      "source": [
        "https://platform.openai.com/traces"
      ],
      "metadata": {
        "id": "McAwnaoxhjwV"
      }
    },
    {
      "cell_type": "code",
      "execution_count": 24,
      "metadata": {
        "colab": {
          "base_uri": "https://localhost:8080/"
        },
        "id": "cvbCMm5ESY8r",
        "outputId": "c00c6530-3d32-46a8-b0b6-10d05120dd72"
      },
      "outputs": [
        {
          "output_type": "stream",
          "name": "stdout",
          "text": [
            "Requirement already satisfied: openai-agents in /usr/local/lib/python3.11/dist-packages (0.0.17)\n",
            "Requirement already satisfied: griffe<2,>=1.5.6 in /usr/local/lib/python3.11/dist-packages (from openai-agents) (1.7.3)\n",
            "Requirement already satisfied: mcp<2,>=1.8.0 in /usr/local/lib/python3.11/dist-packages (from openai-agents) (1.9.3)\n",
            "Requirement already satisfied: openai>=1.81.0 in /usr/local/lib/python3.11/dist-packages (from openai-agents) (1.84.0)\n",
            "Requirement already satisfied: pydantic<3,>=2.10 in /usr/local/lib/python3.11/dist-packages (from openai-agents) (2.11.5)\n",
            "Requirement already satisfied: requests<3,>=2.0 in /usr/local/lib/python3.11/dist-packages (from openai-agents) (2.32.3)\n",
            "Requirement already satisfied: types-requests<3,>=2.0 in /usr/local/lib/python3.11/dist-packages (from openai-agents) (2.32.0.20250602)\n",
            "Requirement already satisfied: typing-extensions<5,>=4.12.2 in /usr/local/lib/python3.11/dist-packages (from openai-agents) (4.14.0)\n",
            "Requirement already satisfied: colorama>=0.4 in /usr/local/lib/python3.11/dist-packages (from griffe<2,>=1.5.6->openai-agents) (0.4.6)\n",
            "Requirement already satisfied: anyio>=4.5 in /usr/local/lib/python3.11/dist-packages (from mcp<2,>=1.8.0->openai-agents) (4.9.0)\n",
            "Requirement already satisfied: httpx-sse>=0.4 in /usr/local/lib/python3.11/dist-packages (from mcp<2,>=1.8.0->openai-agents) (0.4.0)\n",
            "Requirement already satisfied: httpx>=0.27 in /usr/local/lib/python3.11/dist-packages (from mcp<2,>=1.8.0->openai-agents) (0.28.1)\n",
            "Requirement already satisfied: pydantic-settings>=2.5.2 in /usr/local/lib/python3.11/dist-packages (from mcp<2,>=1.8.0->openai-agents) (2.9.1)\n",
            "Requirement already satisfied: python-multipart>=0.0.9 in /usr/local/lib/python3.11/dist-packages (from mcp<2,>=1.8.0->openai-agents) (0.0.20)\n",
            "Requirement already satisfied: sse-starlette>=1.6.1 in /usr/local/lib/python3.11/dist-packages (from mcp<2,>=1.8.0->openai-agents) (2.3.6)\n",
            "Requirement already satisfied: starlette>=0.27 in /usr/local/lib/python3.11/dist-packages (from mcp<2,>=1.8.0->openai-agents) (0.46.2)\n",
            "Requirement already satisfied: uvicorn>=0.23.1 in /usr/local/lib/python3.11/dist-packages (from mcp<2,>=1.8.0->openai-agents) (0.34.3)\n",
            "Requirement already satisfied: distro<2,>=1.7.0 in /usr/local/lib/python3.11/dist-packages (from openai>=1.81.0->openai-agents) (1.9.0)\n",
            "Requirement already satisfied: jiter<1,>=0.4.0 in /usr/local/lib/python3.11/dist-packages (from openai>=1.81.0->openai-agents) (0.10.0)\n",
            "Requirement already satisfied: sniffio in /usr/local/lib/python3.11/dist-packages (from openai>=1.81.0->openai-agents) (1.3.1)\n",
            "Requirement already satisfied: tqdm>4 in /usr/local/lib/python3.11/dist-packages (from openai>=1.81.0->openai-agents) (4.67.1)\n",
            "Requirement already satisfied: annotated-types>=0.6.0 in /usr/local/lib/python3.11/dist-packages (from pydantic<3,>=2.10->openai-agents) (0.7.0)\n",
            "Requirement already satisfied: pydantic-core==2.33.2 in /usr/local/lib/python3.11/dist-packages (from pydantic<3,>=2.10->openai-agents) (2.33.2)\n",
            "Requirement already satisfied: typing-inspection>=0.4.0 in /usr/local/lib/python3.11/dist-packages (from pydantic<3,>=2.10->openai-agents) (0.4.1)\n",
            "Requirement already satisfied: charset-normalizer<4,>=2 in /usr/local/lib/python3.11/dist-packages (from requests<3,>=2.0->openai-agents) (3.4.2)\n",
            "Requirement already satisfied: idna<4,>=2.5 in /usr/local/lib/python3.11/dist-packages (from requests<3,>=2.0->openai-agents) (3.10)\n",
            "Requirement already satisfied: urllib3<3,>=1.21.1 in /usr/local/lib/python3.11/dist-packages (from requests<3,>=2.0->openai-agents) (2.4.0)\n",
            "Requirement already satisfied: certifi>=2017.4.17 in /usr/local/lib/python3.11/dist-packages (from requests<3,>=2.0->openai-agents) (2025.4.26)\n",
            "Requirement already satisfied: httpcore==1.* in /usr/local/lib/python3.11/dist-packages (from httpx>=0.27->mcp<2,>=1.8.0->openai-agents) (1.0.9)\n",
            "Requirement already satisfied: h11>=0.16 in /usr/local/lib/python3.11/dist-packages (from httpcore==1.*->httpx>=0.27->mcp<2,>=1.8.0->openai-agents) (0.16.0)\n",
            "Requirement already satisfied: python-dotenv>=0.21.0 in /usr/local/lib/python3.11/dist-packages (from pydantic-settings>=2.5.2->mcp<2,>=1.8.0->openai-agents) (1.1.0)\n",
            "Requirement already satisfied: click>=7.0 in /usr/local/lib/python3.11/dist-packages (from uvicorn>=0.23.1->mcp<2,>=1.8.0->openai-agents) (8.2.1)\n",
            "Requirement already satisfied: groq in /usr/local/lib/python3.11/dist-packages (0.26.0)\n",
            "Requirement already satisfied: anyio<5,>=3.5.0 in /usr/local/lib/python3.11/dist-packages (from groq) (4.9.0)\n",
            "Requirement already satisfied: distro<2,>=1.7.0 in /usr/local/lib/python3.11/dist-packages (from groq) (1.9.0)\n",
            "Requirement already satisfied: httpx<1,>=0.23.0 in /usr/local/lib/python3.11/dist-packages (from groq) (0.28.1)\n",
            "Requirement already satisfied: pydantic<3,>=1.9.0 in /usr/local/lib/python3.11/dist-packages (from groq) (2.11.5)\n",
            "Requirement already satisfied: sniffio in /usr/local/lib/python3.11/dist-packages (from groq) (1.3.1)\n",
            "Requirement already satisfied: typing-extensions<5,>=4.10 in /usr/local/lib/python3.11/dist-packages (from groq) (4.14.0)\n",
            "Requirement already satisfied: idna>=2.8 in /usr/local/lib/python3.11/dist-packages (from anyio<5,>=3.5.0->groq) (3.10)\n",
            "Requirement already satisfied: certifi in /usr/local/lib/python3.11/dist-packages (from httpx<1,>=0.23.0->groq) (2025.4.26)\n",
            "Requirement already satisfied: httpcore==1.* in /usr/local/lib/python3.11/dist-packages (from httpx<1,>=0.23.0->groq) (1.0.9)\n",
            "Requirement already satisfied: h11>=0.16 in /usr/local/lib/python3.11/dist-packages (from httpcore==1.*->httpx<1,>=0.23.0->groq) (0.16.0)\n",
            "Requirement already satisfied: annotated-types>=0.6.0 in /usr/local/lib/python3.11/dist-packages (from pydantic<3,>=1.9.0->groq) (0.7.0)\n",
            "Requirement already satisfied: pydantic-core==2.33.2 in /usr/local/lib/python3.11/dist-packages (from pydantic<3,>=1.9.0->groq) (2.33.2)\n",
            "Requirement already satisfied: typing-inspection>=0.4.0 in /usr/local/lib/python3.11/dist-packages (from pydantic<3,>=1.9.0->groq) (0.4.1)\n",
            "Requirement already satisfied: sendgrid in /usr/local/lib/python3.11/dist-packages (6.12.3)\n",
            "Requirement already satisfied: python-http-client>=3.2.1 in /usr/local/lib/python3.11/dist-packages (from sendgrid) (3.3.7)\n",
            "Requirement already satisfied: ecdsa<1,>=0.19.1 in /usr/local/lib/python3.11/dist-packages (from sendgrid) (0.19.1)\n",
            "Requirement already satisfied: werkzeug>=2.2.0 in /usr/local/lib/python3.11/dist-packages (from sendgrid) (3.1.3)\n",
            "Requirement already satisfied: six>=1.9.0 in /usr/local/lib/python3.11/dist-packages (from ecdsa<1,>=0.19.1->sendgrid) (1.17.0)\n",
            "Requirement already satisfied: MarkupSafe>=2.1.1 in /usr/local/lib/python3.11/dist-packages (from werkzeug>=2.2.0->sendgrid) (3.0.2)\n",
            "Requirement already satisfied: openai in /usr/local/lib/python3.11/dist-packages (1.84.0)\n",
            "Requirement already satisfied: anyio<5,>=3.5.0 in /usr/local/lib/python3.11/dist-packages (from openai) (4.9.0)\n",
            "Requirement already satisfied: distro<2,>=1.7.0 in /usr/local/lib/python3.11/dist-packages (from openai) (1.9.0)\n",
            "Requirement already satisfied: httpx<1,>=0.23.0 in /usr/local/lib/python3.11/dist-packages (from openai) (0.28.1)\n",
            "Requirement already satisfied: jiter<1,>=0.4.0 in /usr/local/lib/python3.11/dist-packages (from openai) (0.10.0)\n",
            "Requirement already satisfied: pydantic<3,>=1.9.0 in /usr/local/lib/python3.11/dist-packages (from openai) (2.11.5)\n",
            "Requirement already satisfied: sniffio in /usr/local/lib/python3.11/dist-packages (from openai) (1.3.1)\n",
            "Requirement already satisfied: tqdm>4 in /usr/local/lib/python3.11/dist-packages (from openai) (4.67.1)\n",
            "Requirement already satisfied: typing-extensions<5,>=4.11 in /usr/local/lib/python3.11/dist-packages (from openai) (4.14.0)\n",
            "Requirement already satisfied: idna>=2.8 in /usr/local/lib/python3.11/dist-packages (from anyio<5,>=3.5.0->openai) (3.10)\n",
            "Requirement already satisfied: certifi in /usr/local/lib/python3.11/dist-packages (from httpx<1,>=0.23.0->openai) (2025.4.26)\n",
            "Requirement already satisfied: httpcore==1.* in /usr/local/lib/python3.11/dist-packages (from httpx<1,>=0.23.0->openai) (1.0.9)\n",
            "Requirement already satisfied: h11>=0.16 in /usr/local/lib/python3.11/dist-packages (from httpcore==1.*->httpx<1,>=0.23.0->openai) (0.16.0)\n",
            "Requirement already satisfied: annotated-types>=0.6.0 in /usr/local/lib/python3.11/dist-packages (from pydantic<3,>=1.9.0->openai) (0.7.0)\n",
            "Requirement already satisfied: pydantic-core==2.33.2 in /usr/local/lib/python3.11/dist-packages (from pydantic<3,>=1.9.0->openai) (2.33.2)\n",
            "Requirement already satisfied: typing-inspection>=0.4.0 in /usr/local/lib/python3.11/dist-packages (from pydantic<3,>=1.9.0->openai) (0.4.1)\n"
          ]
        }
      ],
      "source": [
        "!pip install openai-agents\n",
        "\n",
        "!pip install groq\n",
        "\n",
        "!pip install sendgrid\n",
        "\n",
        "!pip install openai"
      ]
    },
    {
      "cell_type": "code",
      "source": [
        "from groq import Groq\n",
        "\n",
        "from google.colab import userdata\n",
        "\n",
        "import os\n",
        "\n",
        "groq_api_key = os.environ['GROQ_API_KEY'] = userdata.get('GROQ_API_KEY')\n",
        "\n",
        "sendgrid_api_key = os.environ['SENDGRID_API_KEY'] = userdata.get('SENDGRID_API_KEY')\n",
        "\n",
        "openai_api_key = os.environ['OPENAI_API_KEY'] = userdata.get('OpenAI_API_Key')\n",
        "\n",
        "from agents import Agent\n",
        "\n",
        "from agents import Runner\n",
        "\n",
        "from agents import trace\n",
        "\n",
        "from agents import function_tool\n",
        "\n",
        "from typing import Dict\n",
        "\n",
        "import sendgrid\n",
        "\n",
        "from openai.types.responses import ResponseTextDeltaEvent\n",
        "\n",
        "from sendgrid.helpers.mail import Mail\n",
        "\n",
        "from sendgrid.helpers.mail import Email\n",
        "\n",
        "from sendgrid.helpers.mail import To\n",
        "\n",
        "from sendgrid.helpers.mail import Content\n",
        "\n",
        "from pydantic import BaseModel\n",
        "\n",
        "from agents import input_guardrail\n",
        "\n",
        "from agents import GuardrailFunctionOutput"
      ],
      "metadata": {
        "id": "-i55mpfuEDB3"
      },
      "execution_count": 65,
      "outputs": []
    },
    {
      "cell_type": "code",
      "source": [
        "agent_1_instruction = \"You are a sales agent employed in ComplAI, a company that provides SaaS tools for ensuring SOC2 compliance and preparing for audits, powered by AI. You write professional and serious cold emails.\"\n",
        "\n",
        "agent_2_instruction = \"You are a humourous and an engaging sales agent employed in ComplAI, a company that provides SaaS tools for ensuring SOC2 compliance and preparing for audits, powered by AI. You write witty, engaging cold emails that are likey to get a response.\"\n",
        "\n",
        "agent_3_instruction = \"You are a busy sales agent employed in ComplAI, a company that provides SaaS tools for ensuring SOC2 compliance and preparing for audits, powered by AI. You send concise, and to the exact point cold emails.\""
      ],
      "metadata": {
        "id": "X9jeIP8LEvA3"
      },
      "execution_count": 27,
      "outputs": []
    },
    {
      "cell_type": "code",
      "source": [
        "sales_agent1 = Agent(\n",
        "\n",
        "                     name = \"Professional Sales Agent\",\n",
        "\n",
        "                     instructions = agent_1_instruction,\n",
        "\n",
        "                     model = \"gpt-4o\"\n",
        ")\n",
        "\n",
        "\n",
        "sales_agent2 = Agent(\n",
        "\n",
        "                     name = \"Humourous Sales Agent\",\n",
        "\n",
        "                     instructions = agent_2_instruction,\n",
        "\n",
        "                     model = \"gpt-4o\"\n",
        ")\n",
        "\n",
        "sales_agent3 = Agent(\n",
        "\n",
        "                     name = \"Busy Sales Agent\",\n",
        "\n",
        "                     instructions = agent_3_instruction,\n",
        "\n",
        "                     model = \"gpt-4o\"\n",
        ")"
      ],
      "metadata": {
        "id": "oWbZMtEqOFe8"
      },
      "execution_count": 28,
      "outputs": []
    },
    {
      "cell_type": "code",
      "source": [
        "import asyncio\n",
        "\n",
        "sales_agent1_result = Runner.run_streamed(sales_agent1, input = \"Write a cold sales email\")\n",
        "\n",
        "async for event in sales_agent1_result.stream_events():\n",
        "\n",
        "  if event.type == \"raw_response_event\" and isinstance(event.data, ResponseTextDeltaEvent):\n",
        "\n",
        "    print(event.data.delta, end = \"\", flush = True)"
      ],
      "metadata": {
        "colab": {
          "base_uri": "https://localhost:8080/"
        },
        "id": "SBe-qgm1PrEb",
        "outputId": "1057d7c1-2e79-4cc1-fe41-b8c86f4d1cde"
      },
      "execution_count": 29,
      "outputs": [
        {
          "output_type": "stream",
          "name": "stdout",
          "text": [
            "Subject: Streamline Your SOC2 Compliance with AI-Powered Efficiency\n",
            "\n",
            "Hi [Recipient's Name],\n",
            "\n",
            "I hope this message finds you well. My name is [Your Name], and I am with ComplAI, where we specialize in simplifying SOC2 compliance with cutting-edge AI technology.\n",
            "\n",
            "Navigating SOC2 requirements can be daunting and time-consuming for many organizations. Our solutions are designed to streamline this process, reducing both the effort and time needed to ensure compliance and successfully prepare for audits.\n",
            "\n",
            "Key benefits of our SaaS tools include:\n",
            "- Automated documentation management\n",
            "- Real-time compliance monitoring\n",
            "- Intelligent risk assessment and reporting\n",
            "\n",
            "I would love to explore how ComplAI can support your compliance needs and make your audit preparations more efficient.\n",
            "\n",
            "Are you available for a quick call next week? Please let me know a convenient time for you.\n",
            "\n",
            "Looking forward to the opportunity to discuss this further.\n",
            "\n",
            "Best regards,\n",
            "\n",
            "[Your Full Name]  \n",
            "[Your Position]  \n",
            "ComplAI  \n",
            "[Your Contact Information]  \n",
            "[Your LinkedIn Profile]"
          ]
        }
      ]
    },
    {
      "cell_type": "code",
      "source": [
        "message = \"Write a cold sales email\"\n",
        "\n",
        "with trace(\"Parallel Cold emails\"):\n",
        "\n",
        "  sales_agents_results = await asyncio.gather(\n",
        "\n",
        "\n",
        "                                              Runner.run(sales_agent1, message),\n",
        "\n",
        "                                              Runner.run(sales_agent2, message),\n",
        "\n",
        "                                              Runner.run(sales_agent3, message)\n",
        "  )\n",
        "\n",
        "  outputs = [sales_agent_result.final_output for sales_agent_result in sales_agents_results]\n",
        "\n",
        "  for output in outputs:\n",
        "\n",
        "   print(output, \"\\n\\n\")"
      ],
      "metadata": {
        "colab": {
          "base_uri": "https://localhost:8080/"
        },
        "id": "Jh_ZtqQ-VcNG",
        "outputId": "1665c497-9a6f-4aba-ba85-bb59cc79850c"
      },
      "execution_count": 30,
      "outputs": [
        {
          "output_type": "stream",
          "name": "stdout",
          "text": [
            "Subject: Streamline Your SOC2 Compliance with AI-Driven Solutions\n",
            "\n",
            "Hi [Recipient's Name],\n",
            "\n",
            "I hope this message finds you well. I'm [Your Name] from ComplAI, and I wanted to reach out to introduce you to our innovative SaaS tool designed to streamline SOC2 compliance and audit preparation using cutting-edge AI technology.\n",
            "\n",
            "Achieving and maintaining SOC2 compliance can be complex and resource-intensive. Our solution automates compliance workflows, reduces errors, and offers comprehensive insights, ensuring a smoother and more efficient process.\n",
            "\n",
            "Key features of ComplAI include:\n",
            "\n",
            "- Automated risk assessments\n",
            "- Real-time compliance monitoring\n",
            "- Tailored audit preparation guidance\n",
            "- Intuitive dashboard for easy management\n",
            "\n",
            "Our AI-powered platform saves time and resources while elevating your compliance efforts to the next level.\n",
            "\n",
            "Would you be open to a brief call or demo to explore how we can support your compliance needs?\n",
            "\n",
            "Looking forward to the opportunity to connect.\n",
            "\n",
            "Best regards,\n",
            "\n",
            "[Your Full Name]  \n",
            "[Your Position]  \n",
            "ComplAI  \n",
            "[Your Contact Information]   \n",
            "\n",
            "\n",
            "Subject: SOC2 Compliance Has Never Been This Entertaining! 🎉\n",
            "\n",
            "Hi [Recipient's Name],\n",
            "\n",
            "I hope this email finds you as well as an unbreached server! 🔒\n",
            "\n",
            "I promise I’m not writing to add another dull task to your day—far from it. Let’s be honest, getting ready for SOC2 audits can feel like preparing for a dance-off without ever having seen the dance floor.\n",
            "\n",
            "Here’s where ComplAI comes in, the Fred Astaire to your compliance worries. 💃 Our AI-powered SaaS tools make SOC2 compliance feel less like a chore and more like... dare I say... fun?\n",
            "\n",
            "With our platform, you can:\n",
            "- **Sashay Through Compliance Requirements**: Seamlessly manage tasks with AI-powered insights that make sense!\n",
            "- **Avoid the Audit Shuffle**: Prepare for audits without breaking a sweat (or breaking into a stress-induced dance).\n",
            "- **Cha-Cha-Change your Efficiency**: Automate tedious tasks so you can focus more on the *real* moves.\n",
            "\n",
            "Let’s turn your SOC2 compliance process from “Oh no” to “Oh wow!” 🎊\n",
            "\n",
            "Ready to take the first step? Give me a shout, and let’s dance through compliance together.\n",
            "\n",
            "Best,\n",
            "[Your Name]  \n",
            "ComplAI - Lightening your compliance burden, one step at a time! 💡 \n",
            "\n",
            "\n",
            "Subject: Simplify Your SOC2 Compliance with AI-Powered Solutions\n",
            "\n",
            "Hi [Recipient's Name],\n",
            "\n",
            "I hope this message finds you well. I wanted to introduce you to ComplAI, where we streamline SOC2 compliance and audit preparation with AI-driven tools.\n",
            "\n",
            "Our platform automates documentation, monitors compliance, and provides real-time insights, ensuring you’re always audit-ready.\n",
            "\n",
            "Could we schedule a quick call to discuss how ComplAI can benefit [Recipient's Company Name]?\n",
            "\n",
            "Looking forward to connecting.\n",
            "\n",
            "Best,\n",
            "[Your Name]  \n",
            "ComplAI Sales Team \n",
            "\n",
            "\n"
          ]
        }
      ]
    },
    {
      "cell_type": "code",
      "source": [
        "sales_picker = Agent(\n",
        "\n",
        "                     name = \"Sales picker\",\n",
        "\n",
        "                     instructions = \"You choose the best cold sales email from the given options. Imagine you are a customer and choose the one which you will likely respond to, JUST REPLY BACK WITH THE EMAIL!\"\n",
        ")"
      ],
      "metadata": {
        "id": "cFQrgfOvba30"
      },
      "execution_count": 31,
      "outputs": []
    },
    {
      "cell_type": "code",
      "source": [
        "message = \"Write a cold sales email\"\n",
        "\n",
        "with trace(\"Best cold sales email\"):\n",
        "\n",
        "  best_cold_sales_email_results = await asyncio.gather(\n",
        "\n",
        "                       Runner.run(sales_agent1, message),\n",
        "\n",
        "                       Runner.run(sales_agent2, message),\n",
        "\n",
        "                       Runner.run(sales_agent3, message)\n",
        "\n",
        "\n",
        "  )\n",
        "\n",
        "  outputs = [best_cold_sales_email_result.final_output for best_cold_sales_email_result in best_cold_sales_email_results]\n",
        "\n",
        "  cold_sales_emails = \"Cold sales emails: \\n\\n\".join(outputs)\n",
        "\n",
        "  final_best_cold_sales_email = await Runner.run(sales_picker, cold_sales_emails)\n",
        "\n",
        "  print(f\"Final Best Cold Sales Email: {final_best_cold_sales_email.final_output}\")"
      ],
      "metadata": {
        "colab": {
          "base_uri": "https://localhost:8080/"
        },
        "id": "d07MX9kvdmZf",
        "outputId": "d9924cb7-fda5-403e-d49a-68a1fee08a12"
      },
      "execution_count": 32,
      "outputs": [
        {
          "output_type": "stream",
          "name": "stdout",
          "text": [
            "Final Best Cold Sales Email: Subject: SOC2 Compliance: Easier Than Finding a Matching Sock\n",
            "\n",
            "Hey [Name],\n",
            "\n",
            "I hope your inbox isn’t as crowded as my sock drawer (which, let me tell you, defies all organizational laws).\n",
            "\n",
            "I’m reaching out from ComplAI, where we turn the hassle of SOC2 compliance into a breeze with our AI-powered SaaS tool. Think of us as the GPS for your compliance journey—no more detours or U-turns, just a smooth ride to audit readiness.\n",
            "\n",
            "Our tool handles:\n",
            "\n",
            "- Risk Assessment (so you can finally stop playing compliance whack-a-mole)\n",
            "- Policy Automation (no, we can’t automate coffee runs, but we’re close)\n",
            "- Continuous Monitoring (because surprises should be reserved for birthdays)\n",
            "\n",
            "If you’re ready to make SOC2 compliance as easy as pie—specifically the type that you can enjoy without ever stepping into a kitchen—let’s chat!\n",
            "\n",
            "Looking forward to making compliance one less thing to fret over.\n",
            "\n",
            "Best,  \n",
            "[Your Name]\n",
            "\n",
            "P.S. If you can find a pair in your sock drawer that matches, let’s call it a sign to reply!\n"
          ]
        }
      ]
    },
    {
      "cell_type": "code",
      "source": [
        "sales_agent1 = Agent(\n",
        "\n",
        "                     name = \"Professional Sales Agent\",\n",
        "\n",
        "                     instructions = agent_1_instruction,\n",
        "\n",
        "                     model = \"gpt-4o\"\n",
        ")\n",
        "\n",
        "sales_agent2 = Agent(\n",
        "\n",
        "                     name = \"Humourous Sales Agent\",\n",
        "\n",
        "                     instructions = agent_2_instruction,\n",
        "\n",
        "                     model = \"gpt-4o\"\n",
        ")\n",
        "\n",
        "sales_agent3 = Agent(\n",
        "\n",
        "                     name = \"Busy Sales Agent\",\n",
        "\n",
        "                     instructions = agent_3_instruction,\n",
        "\n",
        "                     model = \"gpt-4o\"\n",
        ")"
      ],
      "metadata": {
        "id": "Qj0jjJrBfgD-"
      },
      "execution_count": 33,
      "outputs": []
    },
    {
      "cell_type": "code",
      "source": [
        "@function_tool\n",
        "def send_email(body: str):\n",
        "\n",
        "  \"\"\"Send out an email with the given body to all sales prospects\"\"\"\n",
        "\n",
        "  sendgrid_client = sendgrid.SendGridAPIClient(api_key = userdata.get('SENDGRID_API_KEY'))\n",
        "\n",
        "  from_email = Email(\"faiazrex8@gmail.com\")\n",
        "\n",
        "  to_email = To(\"faiazrex8@gmail.com\")\n",
        "\n",
        "  content = Content(\"text/plain\", body)\n",
        "\n",
        "  mail_to_send = Mail(from_email, to_email, \"Sales email\", content).get()\n",
        "\n",
        "  response = sendgrid_client.client.mail.send.post(request_body = mail_to_send)\n",
        "\n",
        "  return {\"status\" : \"success\"}\n",
        "\n",
        "send_email"
      ],
      "metadata": {
        "colab": {
          "base_uri": "https://localhost:8080/"
        },
        "id": "2AHCS6DdjvVn",
        "outputId": "806c6782-20b4-4a9d-e836-110ca5a495aa"
      },
      "execution_count": 39,
      "outputs": [
        {
          "output_type": "execute_result",
          "data": {
            "text/plain": [
              "FunctionTool(name='send_email', description='Send out an email with the given body to all sales prospects', params_json_schema={'properties': {'body': {'title': 'Body', 'type': 'string'}}, 'required': ['body'], 'title': 'send_email_args', 'type': 'object', 'additionalProperties': False}, on_invoke_tool=<function function_tool.<locals>._create_function_tool.<locals>._on_invoke_tool at 0x7fc80fa42b60>, strict_json_schema=True, is_enabled=True)"
            ]
          },
          "metadata": {},
          "execution_count": 39
        }
      ]
    },
    {
      "cell_type": "code",
      "source": [
        "sales_agent_tool_1 = sales_agent1.as_tool(tool_name = \"sales_agent1\", tool_description = \"Write a cold sales email\")\n",
        "\n",
        "sales_agent_tool_1"
      ],
      "metadata": {
        "colab": {
          "base_uri": "https://localhost:8080/"
        },
        "id": "wI8BWzAArRSm",
        "outputId": "ecbbf6bb-37bc-424b-e824-f8f859a2e1c3"
      },
      "execution_count": 40,
      "outputs": [
        {
          "output_type": "execute_result",
          "data": {
            "text/plain": [
              "FunctionTool(name='sales_agent1', description='Write a cold sales email', params_json_schema={'properties': {'input': {'title': 'Input', 'type': 'string'}}, 'required': ['input'], 'title': 'sales_agent1_args', 'type': 'object', 'additionalProperties': False}, on_invoke_tool=<function function_tool.<locals>._create_function_tool.<locals>._on_invoke_tool at 0x7fc801bcefc0>, strict_json_schema=True, is_enabled=True)"
            ]
          },
          "metadata": {},
          "execution_count": 40
        }
      ]
    },
    {
      "cell_type": "code",
      "source": [
        "task_description = \"Write a cold sales email\"\n",
        "\n",
        "sales_agent_tool_1 = sales_agent1.as_tool(tool_name = \"sales_agent1\", tool_description = task_description)\n",
        "\n",
        "sales_agent_tool_2 = sales_agent2.as_tool(tool_name = \"sales_agent2\", tool_description = task_description)\n",
        "\n",
        "sales_agent_tool_3 = sales_agent3.as_tool(tool_name = \"sales_agent3\", tool_description = task_description)\n",
        "\n",
        "sales_tools = [sales_agent_tool_1, sales_agent_tool_2, sales_agent_tool_3, send_email]\n",
        "\n",
        "sales_tools"
      ],
      "metadata": {
        "colab": {
          "base_uri": "https://localhost:8080/"
        },
        "id": "B7ywGU59_pY4",
        "outputId": "cdd79984-ccea-4514-c33f-232a6be84ed0"
      },
      "execution_count": 41,
      "outputs": [
        {
          "output_type": "execute_result",
          "data": {
            "text/plain": [
              "[FunctionTool(name='sales_agent1', description='Write a cold sales email', params_json_schema={'properties': {'input': {'title': 'Input', 'type': 'string'}}, 'required': ['input'], 'title': 'sales_agent1_args', 'type': 'object', 'additionalProperties': False}, on_invoke_tool=<function function_tool.<locals>._create_function_tool.<locals>._on_invoke_tool at 0x7fc801af7100>, strict_json_schema=True, is_enabled=True),\n",
              " FunctionTool(name='sales_agent2', description='Write a cold sales email', params_json_schema={'properties': {'input': {'title': 'Input', 'type': 'string'}}, 'required': ['input'], 'title': 'sales_agent2_args', 'type': 'object', 'additionalProperties': False}, on_invoke_tool=<function function_tool.<locals>._create_function_tool.<locals>._on_invoke_tool at 0x7fc801bcc540>, strict_json_schema=True, is_enabled=True),\n",
              " FunctionTool(name='sales_agent3', description='Write a cold sales email', params_json_schema={'properties': {'input': {'title': 'Input', 'type': 'string'}}, 'required': ['input'], 'title': 'sales_agent3_args', 'type': 'object', 'additionalProperties': False}, on_invoke_tool=<function function_tool.<locals>._create_function_tool.<locals>._on_invoke_tool at 0x7fc801bfede0>, strict_json_schema=True, is_enabled=True),\n",
              " FunctionTool(name='send_email', description='Send out an email with the given body to all sales prospects', params_json_schema={'properties': {'body': {'title': 'Body', 'type': 'string'}}, 'required': ['body'], 'title': 'send_email_args', 'type': 'object', 'additionalProperties': False}, on_invoke_tool=<function function_tool.<locals>._create_function_tool.<locals>._on_invoke_tool at 0x7fc80fa42b60>, strict_json_schema=True, is_enabled=True)]"
            ]
          },
          "metadata": {},
          "execution_count": 41
        }
      ]
    },
    {
      "cell_type": "code",
      "source": [
        "sales_manager_agent_instructions = \"\"\"\n",
        "\n",
        "You are a sales manager employed in ComplAI, and you are always at the top of your game as you strategically and effectively utilize the tools in your arsenal to draft potential and successful sale closing cold sales emails.\n",
        "\n",
        "You experiment with all the 3 tools available to you as you never generate the sales email yourself instead you always use the tools meaning you delegate the task to all the 3 sales_agent tools at least once before you finalize the best one for the current scenario and usecase you are working on and correspondingly you choose the best email draft out of all the email drafts drafted and leverage the 'send_email' tool to send the ideal sales pitch email(cold sales email) to the potential customer or client.\n",
        "\n",
        "\"\"\"\n",
        "\n",
        "sales_manager_agent = Agent(\n",
        "\n",
        "                            name = \"Sales Manager\",\n",
        "\n",
        "                            instructions = sales_manager_agent_instructions,\n",
        "\n",
        "                            model = \"gpt-4o\",\n",
        "\n",
        "                            tools = sales_tools\n",
        "\n",
        "\n",
        ")\n",
        "\n",
        "\n",
        "message = \"Send a cold sales email addressed to the CEO of Salesforce.\"\n",
        "\n",
        "with trace(\"Sales Manager Agent\"):\n",
        "\n",
        "  sales_manager_result = await Runner.run(sales_manager_agent, message)"
      ],
      "metadata": {
        "id": "dtLDRIzaInAE"
      },
      "execution_count": 42,
      "outputs": []
    },
    {
      "cell_type": "code",
      "source": [
        "print(f\"Outcome:{sales_manager_result}\")"
      ],
      "metadata": {
        "colab": {
          "base_uri": "https://localhost:8080/"
        },
        "id": "Al3yGdCHS-PL",
        "outputId": "06debb5e-692b-47a8-dfc1-8871120ae104"
      },
      "execution_count": 43,
      "outputs": [
        {
          "output_type": "stream",
          "name": "stdout",
          "text": [
            "Outcome:RunResult:\n",
            "- Last agent: Agent(name=\"Sales Manager\", ...)\n",
            "- Final output (str):\n",
            "    The cold sales email has been successfully sent to the CEO of Salesforce. Would you like any further assistance?\n",
            "- 9 new item(s)\n",
            "- 3 raw response(s)\n",
            "- 0 input guardrail result(s)\n",
            "- 0 output guardrail result(s)\n",
            "(See `RunResult` for more details)\n"
          ]
        }
      ]
    },
    {
      "cell_type": "code",
      "source": [
        "email_subject_instructions = \"You write attention-grabbing subject for cold sales emails. Given a message, you need to write a appealing subject for an email that has the most highest chances of getting a postive response and in favour of the sender.\"\n",
        "\n",
        "html_formatting_instructions = \"You convert plain text email to a html format. Given an email which might have some markdown, you have to convert it into to a clear, easy to understand HTML format.\"\n",
        "\n",
        "subject_writer_agent = Agent(\n",
        "\n",
        "                             name = \"Subject Writer Agent\",\n",
        "\n",
        "                             instructions = email_subject_instructions,\n",
        "\n",
        "                             model = \"gpt-4o\"\n",
        ")\n",
        "\n",
        "html_formatter_agent = Agent(\n",
        "\n",
        "                             name = \"HTML Formatter Agent\",\n",
        "\n",
        "                             instructions = html_formatting_instructions,\n",
        "\n",
        "                             model = \"gpt-4o\"\n",
        ")\n",
        "\n",
        "subject_writer_tool = subject_writer_agent.as_tool(tool_name = \"subject_writer_agent\", tool_description = \"Write a subject for cold sales email\")\n",
        "\n",
        "html_formatting_tool = html_formatter_agent.as_tool(tool_name = \"html_formatter_agent\", tool_description = \"Formats plain text email to HTML\")"
      ],
      "metadata": {
        "id": "Ez0cioY0dnsJ"
      },
      "execution_count": 44,
      "outputs": []
    },
    {
      "cell_type": "code",
      "source": [
        "@function_tool\n",
        "\n",
        "def send_html_email(subject: str, html_body: str) -> Dict[str,str]:\n",
        "\n",
        "  \"\"\"Send out an email with the given subject and html body to all sales prospects\"\"\"\n",
        "\n",
        "  sendgrid_client = sendgrid.SendGridAPIClient(api_key = userdata.get(\"SENDGRID_API_KEY\"))\n",
        "\n",
        "  from_email = Email(\"faiazrex8@gmail.com\")\n",
        "\n",
        "  to_email = To(\"faiazrex8@gmail.com\")\n",
        "\n",
        "  content = Content(\"text/html\", html_body)\n",
        "\n",
        "  mail = Mail(from_email, to_email, subject, content).get()\n",
        "\n",
        "  response = sendgrid_client.client.mail.send.post(request_body = mail)\n",
        "\n",
        "  return {\"status\" : \"success\"}"
      ],
      "metadata": {
        "id": "06cqPQfGm_QE"
      },
      "execution_count": 45,
      "outputs": []
    },
    {
      "cell_type": "code",
      "source": [
        "sales_tools_2 = [subject_writer_tool, html_formatting_tool, send_html_email]\n",
        "\n",
        "sales_tools_2"
      ],
      "metadata": {
        "colab": {
          "base_uri": "https://localhost:8080/"
        },
        "id": "8wmNEh_Ozda7",
        "outputId": "5a4f011c-53e9-49c6-8419-dc9a70ce8306"
      },
      "execution_count": 47,
      "outputs": [
        {
          "output_type": "execute_result",
          "data": {
            "text/plain": [
              "[FunctionTool(name='subject_writer_agent', description='Write a subject for cold sales email', params_json_schema={'properties': {'input': {'title': 'Input', 'type': 'string'}}, 'required': ['input'], 'title': 'subject_writer_agent_args', 'type': 'object', 'additionalProperties': False}, on_invoke_tool=<function function_tool.<locals>._create_function_tool.<locals>._on_invoke_tool at 0x7fc801bfc5e0>, strict_json_schema=True, is_enabled=True),\n",
              " FunctionTool(name='html_formatter_agent', description='Formats plain text email to HTML', params_json_schema={'properties': {'input': {'title': 'Input', 'type': 'string'}}, 'required': ['input'], 'title': 'html_formatter_agent_args', 'type': 'object', 'additionalProperties': False}, on_invoke_tool=<function function_tool.<locals>._create_function_tool.<locals>._on_invoke_tool at 0x7fc801bfc900>, strict_json_schema=True, is_enabled=True),\n",
              " FunctionTool(name='send_html_email', description='Send out an email with the given subject and html body to all sales prospects', params_json_schema={'properties': {'subject': {'title': 'Subject', 'type': 'string'}, 'html_body': {'title': 'Html Body', 'type': 'string'}}, 'required': ['subject', 'html_body'], 'title': 'send_html_email_args', 'type': 'object', 'additionalProperties': False}, on_invoke_tool=<function function_tool.<locals>._create_function_tool.<locals>._on_invoke_tool at 0x7fc801bceb60>, strict_json_schema=True, is_enabled=True)]"
            ]
          },
          "metadata": {},
          "execution_count": 47
        }
      ]
    },
    {
      "cell_type": "code",
      "source": [
        "emailing_instructions = \"\"\"\n",
        "\n",
        "You are an email formatter and sender, who recives the body of the email to be sent.\n",
        "\n",
        "First using the 'subject_writer_tool', write the subject for the email, then utilize the 'html_formatting_tool' to convert the plain text email to HTML.\n",
        "\n",
        "Your final task is to then utilize the 'send_html_email' tool to send the email with the subject and in the format of HTML.\n",
        "\n",
        "\"\"\"\n",
        "\n",
        "emailer_agent = Agent(\n",
        "\n",
        "                      name = \"Email Manager Agent\",\n",
        "\n",
        "                      instructions = emailing_instructions,\n",
        "\n",
        "                      model = \"gpt-4o\",\n",
        "\n",
        "                      tools = sales_tools_2,\n",
        "\n",
        "                      handoff_description = \"Convert an email to HTML and send it.\"\n",
        ")"
      ],
      "metadata": {
        "id": "hP7sOo0-z8cc"
      },
      "execution_count": 48,
      "outputs": []
    },
    {
      "cell_type": "code",
      "source": [
        "sales_tools_team = [sales_agent_tool_1, sales_agent_tool_2, sales_agent_tool_3]\n",
        "\n",
        "sales_team_handoffs = [emailer_agent]\n",
        "\n",
        "print(sales_tools_team)\n",
        "\n",
        "print(sales_team_handoffs)"
      ],
      "metadata": {
        "colab": {
          "base_uri": "https://localhost:8080/"
        },
        "id": "SboR1lWEAr9c",
        "outputId": "52d9a7ff-9e7e-4c6c-d85c-1de366ad04b2"
      },
      "execution_count": 50,
      "outputs": [
        {
          "output_type": "stream",
          "name": "stdout",
          "text": [
            "[FunctionTool(name='sales_agent1', description='Write a cold sales email', params_json_schema={'properties': {'input': {'title': 'Input', 'type': 'string'}}, 'required': ['input'], 'title': 'sales_agent1_args', 'type': 'object', 'additionalProperties': False}, on_invoke_tool=<function function_tool.<locals>._create_function_tool.<locals>._on_invoke_tool at 0x7fc801af7100>, strict_json_schema=True, is_enabled=True), FunctionTool(name='sales_agent2', description='Write a cold sales email', params_json_schema={'properties': {'input': {'title': 'Input', 'type': 'string'}}, 'required': ['input'], 'title': 'sales_agent2_args', 'type': 'object', 'additionalProperties': False}, on_invoke_tool=<function function_tool.<locals>._create_function_tool.<locals>._on_invoke_tool at 0x7fc801bcc540>, strict_json_schema=True, is_enabled=True), FunctionTool(name='sales_agent3', description='Write a cold sales email', params_json_schema={'properties': {'input': {'title': 'Input', 'type': 'string'}}, 'required': ['input'], 'title': 'sales_agent3_args', 'type': 'object', 'additionalProperties': False}, on_invoke_tool=<function function_tool.<locals>._create_function_tool.<locals>._on_invoke_tool at 0x7fc801bfede0>, strict_json_schema=True, is_enabled=True)]\n",
            "[Agent(name='Email Manager Agent', instructions=\"\\n\\nYou are an email formatter and sender, who recives the body of the email to be sent.\\n\\nFirst using the 'subject_writer_tool', write the subject for the email, then utilize the 'html_formatting_tool' to convert the plain text email to HTML.\\n\\nYour final task is to then utilize the 'send_html_email' tool to send the email with the subject and in the format of HTML.\\n\\n\", handoff_description='Convert an email to HTML and send it.', handoffs=[], model='gpt-4o', model_settings=ModelSettings(temperature=None, top_p=None, frequency_penalty=None, presence_penalty=None, tool_choice=None, parallel_tool_calls=None, truncation=None, max_tokens=None, reasoning=None, metadata=None, store=None, include_usage=None, extra_query=None, extra_body=None, extra_headers=None), tools=[FunctionTool(name='subject_writer_agent', description='Write a subject for cold sales email', params_json_schema={'properties': {'input': {'title': 'Input', 'type': 'string'}}, 'required': ['input'], 'title': 'subject_writer_agent_args', 'type': 'object', 'additionalProperties': False}, on_invoke_tool=<function function_tool.<locals>._create_function_tool.<locals>._on_invoke_tool at 0x7fc801bfc5e0>, strict_json_schema=True, is_enabled=True), FunctionTool(name='html_formatter_agent', description='Formats plain text email to HTML', params_json_schema={'properties': {'input': {'title': 'Input', 'type': 'string'}}, 'required': ['input'], 'title': 'html_formatter_agent_args', 'type': 'object', 'additionalProperties': False}, on_invoke_tool=<function function_tool.<locals>._create_function_tool.<locals>._on_invoke_tool at 0x7fc801bfc900>, strict_json_schema=True, is_enabled=True), FunctionTool(name='send_html_email', description='Send out an email with the given subject and html body to all sales prospects', params_json_schema={'properties': {'subject': {'title': 'Subject', 'type': 'string'}, 'html_body': {'title': 'Html Body', 'type': 'string'}}, 'required': ['subject', 'html_body'], 'title': 'send_html_email_args', 'type': 'object', 'additionalProperties': False}, on_invoke_tool=<function function_tool.<locals>._create_function_tool.<locals>._on_invoke_tool at 0x7fc801bceb60>, strict_json_schema=True, is_enabled=True)], mcp_servers=[], mcp_config={}, input_guardrails=[], output_guardrails=[], output_type=None, hooks=None, tool_use_behavior='run_llm_again', reset_tool_choice=True)]\n"
          ]
        }
      ]
    },
    {
      "cell_type": "code",
      "source": [
        "sales_manager_agent_instructions_02 = \"\"\"\n",
        "\n",
        "You are a sales manager employed in ComplAI, and you are always at the top of your game as you strategically and effectively utilize the tools in your arsenal to draft potential and successful sale closing cold sales emails.\n",
        "\n",
        "You experiment with all the 3 tools available to you as you never generate the sales email yourself instead you always use the tools meaning you delegate the task to all the 3 sales_agent tools at least once before you finalize the best one for the current scenario and usecase you are working on and correspondingly you choose the best email draft out of all the email drafts drafted and choose the ideal sales pitch email(cold sales email) using your own judgement for the potential customer or client after which handoff the email to the email manager for formatting the same before sending.\n",
        "\n",
        "Note: You can use the tools multiple times if you are not satisfied with the results from the first try and once you chosen the best email, never think twice, proceed with your choice and hand it off to the Email Manager for formatting and sending.\n",
        "\n",
        "\"\"\"\n",
        "\n",
        "sales_manager_agent = Agent(\n",
        "\n",
        "                            name = \"Sales Manager\",\n",
        "\n",
        "                            instructions = sales_manager_agent_instructions_02,\n",
        "\n",
        "                            tools = sales_tools_team,\n",
        "\n",
        "                            handoffs = sales_team_handoffs,\n",
        "\n",
        "                            model = \"gpt-4o\",\n",
        "\n",
        "\n",
        ")\n",
        "\n",
        "message = \"Send out a cold sales email addressing 'Dear CEO' from Alice\""
      ],
      "metadata": {
        "id": "ijzbE61bBv1r"
      },
      "execution_count": 73,
      "outputs": []
    },
    {
      "cell_type": "code",
      "source": [
        "with trace(\"Automated Sales Development Representative\"):\n",
        "\n",
        "  automated_sales_development_representative_result = await Runner.run(sales_manager_agent, message)\n",
        "\n",
        "  print(f\"Outcome: {automated_sales_development_representative_result}\")"
      ],
      "metadata": {
        "colab": {
          "base_uri": "https://localhost:8080/"
        },
        "id": "geSS5vW-F2qf",
        "outputId": "6017955f-067f-498c-b327-9b3b70636c82"
      },
      "execution_count": 54,
      "outputs": [
        {
          "output_type": "stream",
          "name": "stdout",
          "text": [
            "Outcome: RunResult:\n",
            "- Last agent: Agent(name=\"Email Manager Agent\", ...)\n",
            "- Final output (str):\n",
            "    Please format the following email into HTML and proceed to send it:\n",
            "    \n",
            "    **Subject:** Enhance Your Compliance Efforts with ComplAI’s AI-Driven Solutions\n",
            "    \n",
            "    ---\n",
            "    \n",
            "    **Body:**\n",
            "    \n",
            "    Dear [CEO's Name],\n",
            "    \n",
            "    I hope this message finds you well. I am reaching out to introduce ComplAI, a cutting-edge SaaS solution designed to streamline your SOC2 compliance process using advanced AI technology.\n",
            "    \n",
            "    Ensuring compliance can be a complex and resource-intensive endeavor. At ComplAI, we provide intelligent tools that simplify audit preparation, reduce manual effort, and enhance accuracy, allowing your team to focus on core business operations.\n",
            "    \n",
            "    **Key Benefits of ComplAI:**\n",
            "    \n",
            "    - **Automated Compliance Management**: Reduce complexity with AI-driven controls and continuous monitoring.\n",
            "    - **Effortless Audit Preparation**: Seamlessly organize documentation and evidence for a smoother audit experience.\n",
            "    - **Real-Time Insights and Alerts**: Stay ahead with instant notifications on compliance status and potential risks.\n",
            "    \n",
            "    We’d love to discuss how our AI-powered solutions can support your organization’s compliance strategy. Are you available for a brief call next week to explore this opportunity?\n",
            "    \n",
            "    Thank you for considering ComplAI as your partner in compliance excellence.\n",
            "    \n",
            "    Warm regards,\n",
            "    \n",
            "    Alice [Your Last Name]  \n",
            "    Sales Agent  \n",
            "    ComplAI  \n",
            "    [Your Contact Information]\n",
            "- 10 new item(s)\n",
            "- 3 raw response(s)\n",
            "- 0 input guardrail result(s)\n",
            "- 0 output guardrail result(s)\n",
            "(See `RunResult` for more details)\n"
          ]
        }
      ]
    },
    {
      "cell_type": "code",
      "source": [
        "class NameCheckOutput(BaseModel):\n",
        "\n",
        "  is_name_in_message: bool\n",
        "\n",
        "  name: str\n",
        "\n",
        "guardrail_agent = Agent(\n",
        "\n",
        "                        name = \"Name checker\",\n",
        "\n",
        "                        instructions = \"Check if the user is using someone's personal name in what they want you to do\",\n",
        "\n",
        "                        output_type = NameCheckOutput,\n",
        "\n",
        "                        model = \"gpt-4o\"\n",
        ")"
      ],
      "metadata": {
        "id": "HsYVjTYpGmM3"
      },
      "execution_count": 60,
      "outputs": []
    },
    {
      "cell_type": "code",
      "source": [
        "@input_guardrail\n",
        "\n",
        "async def guardrail_against_name(ctx, agent, message):\n",
        "\n",
        "  result = await Runner.run(guardrail_agent, message, context = ctx.context)\n",
        "\n",
        "  is_name_in_message = result.final_output.is_name_in_message\n",
        "\n",
        "  return GuardrailFunctionOutput(output_info = {\"Found name\": result.final_output}, tripwire_triggered = is_name_in_message)"
      ],
      "metadata": {
        "id": "kWL6CkbeOtlL"
      },
      "execution_count": 67,
      "outputs": []
    },
    {
      "cell_type": "code",
      "source": [
        "message = \"Send out a cold sales email addressed to 'Dear CEO'\"\n",
        "\n",
        "senior_sales_manager_agent = Agent(\n",
        "\n",
        "                                     name = \"Senior Sales Manager\",\n",
        "\n",
        "                                     instructions = sales_manager_agent_instructions_02,\n",
        "\n",
        "                                     tools = sales_tools_team,\n",
        "\n",
        "                                     handoffs = sales_team_handoffs,\n",
        "\n",
        "                                     input_guardrails = [guardrail_against_name],\n",
        "\n",
        "                                     model = \"gpt-4o\"\n",
        "\n",
        ")\n",
        "\n",
        "with trace(\"Secured Automated Sales Development Representative Agent\"):\n",
        "\n",
        " guardrailed_result = await Runner.run(senior_sales_manager_agent, message)\n",
        "\n",
        " print(f\"Guardrailed result: {guardrailed_result}\")"
      ],
      "metadata": {
        "colab": {
          "base_uri": "https://localhost:8080/"
        },
        "id": "qDK6EwtYSilX",
        "outputId": "9aec9ee0-ea5b-4db5-8fe9-c2e4c287f2cc"
      },
      "execution_count": 74,
      "outputs": [
        {
          "output_type": "stream",
          "name": "stdout",
          "text": [
            "Guardrailed result: RunResult:\n",
            "- Last agent: Agent(name=\"Email Manager Agent\", ...)\n",
            "- Final output (str):\n",
            "    The email with the subject \"Boost SOC2 Compliance: Discover AI-Driven Efficiency Today\" has been successfully sent in HTML format.\n",
            "- 16 new item(s)\n",
            "- 5 raw response(s)\n",
            "- 1 input guardrail result(s)\n",
            "- 0 output guardrail result(s)\n",
            "(See `RunResult` for more details)\n"
          ]
        }
      ]
    },
    {
      "cell_type": "code",
      "source": [],
      "metadata": {
        "id": "K6f5V55qWTxl"
      },
      "execution_count": null,
      "outputs": []
    }
  ]
}